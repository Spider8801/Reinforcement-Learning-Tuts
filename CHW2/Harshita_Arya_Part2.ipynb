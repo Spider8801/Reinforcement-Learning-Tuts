{
  "cells": [
    {
      "cell_type": "code",
      "source": [
        "pip install gym==0.25.2"
      ],
      "metadata": {
        "colab": {
          "base_uri": "https://localhost:8080/"
        },
        "id": "Ozx1C9goRifE",
        "outputId": "2aeccd6f-f69b-4793-b843-14777a9896db"
      },
      "execution_count": 1,
      "outputs": [
        {
          "output_type": "stream",
          "name": "stdout",
          "text": [
            "Requirement already satisfied: gym==0.25.2 in /usr/local/lib/python3.10/dist-packages (0.25.2)\n",
            "Requirement already satisfied: numpy>=1.18.0 in /usr/local/lib/python3.10/dist-packages (from gym==0.25.2) (1.23.5)\n",
            "Requirement already satisfied: cloudpickle>=1.2.0 in /usr/local/lib/python3.10/dist-packages (from gym==0.25.2) (2.2.1)\n",
            "Requirement already satisfied: gym-notices>=0.0.4 in /usr/local/lib/python3.10/dist-packages (from gym==0.25.2) (0.0.8)\n"
          ]
        }
      ]
    },
    {
      "cell_type": "markdown",
      "metadata": {
        "id": "gTlHNJ0n60_r"
      },
      "source": [
        "# SmartCab2\n",
        "----\n",
        "In this computer assignment, we will again use reinforcement learning to train a self-driving cab which will\n",
        "pick up and drop passengers at designated areas. We will use the SARSA algorithm."
      ]
    },
    {
      "cell_type": "markdown",
      "metadata": {
        "id": "loonJmU060_s"
      },
      "source": [
        "# Importing required libraries"
      ]
    },
    {
      "cell_type": "code",
      "execution_count": 2,
      "metadata": {
        "id": "4LC9XNRx60_s"
      },
      "outputs": [],
      "source": [
        "import gym\n",
        "import numpy as np"
      ]
    },
    {
      "cell_type": "markdown",
      "metadata": {
        "id": "rSLKi1TP60_t"
      },
      "source": [
        "#  Building the environment"
      ]
    },
    {
      "cell_type": "code",
      "execution_count": 3,
      "metadata": {
        "id": "VFcw4bJz60_t",
        "colab": {
          "base_uri": "https://localhost:8080/"
        },
        "outputId": "bf7f9eac-5034-4d43-b083-91e5f645478e"
      },
      "outputs": [
        {
          "output_type": "stream",
          "name": "stderr",
          "text": [
            "/usr/local/lib/python3.10/dist-packages/gym/core.py:317: DeprecationWarning: \u001b[33mWARN: Initializing wrapper in old step API which returns one bool instead of two. It is recommended to set `new_step_api=True` to use new step API. This will be the default behaviour in future.\u001b[0m\n",
            "  deprecation(\n",
            "/usr/local/lib/python3.10/dist-packages/gym/wrappers/step_api_compatibility.py:39: DeprecationWarning: \u001b[33mWARN: Initializing environment in old step API which returns one bool instead of two. It is recommended to set `new_step_api=True` to use new step API. This will be the default behaviour in future.\u001b[0m\n",
            "  deprecation(\n"
          ]
        }
      ],
      "source": [
        "env = gym.make(\"Taxi-v3\").env\n",
        "Nstates = env.observation_space.n\n",
        "Nactions = env.action_space.n"
      ]
    },
    {
      "cell_type": "markdown",
      "metadata": {
        "id": "CP6yrdDH60_t"
      },
      "source": [
        "# Initializing different paramters"
      ]
    },
    {
      "cell_type": "code",
      "execution_count": 4,
      "metadata": {
        "id": "OyiTR9-V60_t"
      },
      "outputs": [],
      "source": [
        "alpha = 0.1\n",
        "gamma = 0.95\n",
        "epsilon = 0.4\n",
        "epsilon_decay = 0.001\n",
        "Nepisodes = 5000\n",
        "\n",
        "q = np.zeros((Nstates, Nactions))"
      ]
    },
    {
      "cell_type": "markdown",
      "metadata": {
        "id": "8sh_zgqo60_t"
      },
      "source": [
        "# Defining utility functions to be used in the learning process"
      ]
    },
    {
      "cell_type": "code",
      "execution_count": 5,
      "metadata": {
        "id": "JxFqdCPC60_t"
      },
      "outputs": [],
      "source": [
        "#Function to choose the next action\n",
        "def choose_action(state,epsilon):\n",
        "    ########################## Your code here ##########################\n",
        "    # Enter code for choosing action in epsilon greedy manner\n",
        "\n",
        "    action = np.argmax(q[state, :])\n",
        "\n",
        "\n",
        "    ########################## End of your code ########################\n",
        "    return action"
      ]
    },
    {
      "cell_type": "code",
      "execution_count": 6,
      "metadata": {
        "id": "TK0xpyIw60_t"
      },
      "outputs": [],
      "source": [
        "#Function to learn the Q-value\n",
        "def update(state, next_state, reward, action, next_action):\n",
        "    ########################## Your code here ##########################\n",
        "    # you need to update the q function here according SARSA algorithm\n",
        "\n",
        "    current_q = q[state, action]\n",
        "    next_q = q[next_state, next_action]\n",
        "    new_q = current_q + alpha * (reward + gamma * next_q - current_q)\n",
        "    q[state, action] = new_q\n",
        "\n",
        "\n",
        "    ########################## End of your code ########################"
      ]
    },
    {
      "cell_type": "markdown",
      "metadata": {
        "id": "rw_XCTG360_t"
      },
      "source": [
        "# Training"
      ]
    },
    {
      "cell_type": "code",
      "execution_count": 7,
      "metadata": {
        "id": "cFMObedl60_t",
        "colab": {
          "base_uri": "https://localhost:8080/"
        },
        "outputId": "b7a44539-d63c-424e-babe-158bfb22c746"
      },
      "outputs": [
        {
          "output_type": "stream",
          "name": "stdout",
          "text": [
            "-------------------\n",
            "Running episode 0\n",
            "-------------------\n",
            "Running episode 100\n",
            "-------------------\n",
            "Running episode 200\n",
            "-------------------\n",
            "Running episode 300\n",
            "-------------------\n",
            "Running episode 400\n",
            "-------------------\n",
            "Running episode 500\n",
            "-------------------\n",
            "Running episode 600\n",
            "-------------------\n",
            "Running episode 700\n",
            "-------------------\n",
            "Running episode 800\n",
            "-------------------\n",
            "Running episode 900\n",
            "-------------------\n",
            "Running episode 1000\n",
            "-------------------\n",
            "Running episode 1100\n",
            "-------------------\n",
            "Running episode 1200\n",
            "-------------------\n",
            "Running episode 1300\n",
            "-------------------\n",
            "Running episode 1400\n",
            "-------------------\n",
            "Running episode 1500\n",
            "-------------------\n",
            "Running episode 1600\n",
            "-------------------\n",
            "Running episode 1700\n",
            "-------------------\n",
            "Running episode 1800\n",
            "-------------------\n",
            "Running episode 1900\n",
            "-------------------\n",
            "Running episode 2000\n",
            "-------------------\n",
            "Running episode 2100\n",
            "-------------------\n",
            "Running episode 2200\n",
            "-------------------\n",
            "Running episode 2300\n",
            "-------------------\n",
            "Running episode 2400\n",
            "-------------------\n",
            "Running episode 2500\n",
            "-------------------\n",
            "Running episode 2600\n",
            "-------------------\n",
            "Running episode 2700\n",
            "-------------------\n",
            "Running episode 2800\n",
            "-------------------\n",
            "Running episode 2900\n",
            "-------------------\n",
            "Running episode 3000\n",
            "-------------------\n",
            "Running episode 3100\n",
            "-------------------\n",
            "Running episode 3200\n",
            "-------------------\n",
            "Running episode 3300\n",
            "-------------------\n",
            "Running episode 3400\n",
            "-------------------\n",
            "Running episode 3500\n",
            "-------------------\n",
            "Running episode 3600\n",
            "-------------------\n",
            "Running episode 3700\n",
            "-------------------\n",
            "Running episode 3800\n",
            "-------------------\n",
            "Running episode 3900\n",
            "-------------------\n",
            "Running episode 4000\n",
            "-------------------\n",
            "Running episode 4100\n",
            "-------------------\n",
            "Running episode 4200\n",
            "-------------------\n",
            "Running episode 4300\n",
            "-------------------\n",
            "Running episode 4400\n",
            "-------------------\n",
            "Running episode 4500\n",
            "-------------------\n",
            "Running episode 4600\n",
            "-------------------\n",
            "Running episode 4700\n",
            "-------------------\n",
            "Running episode 4800\n",
            "-------------------\n",
            "Running episode 4900\n"
          ]
        }
      ],
      "source": [
        "for i in range(Nepisodes):\n",
        "    if i % 100 == 0:\n",
        "        print(\"-------------------\")\n",
        "        print(\"Running episode\", i)\n",
        "\n",
        "    if epsilon > 0.01:\n",
        "            epsilon -= epsilon_decay\n",
        "\n",
        "    state = env.reset()\n",
        "    action = choose_action(state, epsilon)\n",
        "    done = False\n",
        "\n",
        "\n",
        "\n",
        "    while not done:\n",
        "\n",
        "        #Getting the next state\n",
        "        next_state, reward, done, info = env.step(action)\n",
        "\n",
        "        #Choosing the next action\n",
        "        next_action = choose_action(next_state,epsilon)\n",
        "\n",
        "        #Update Q-value\n",
        "        update(state, next_state, reward, action, next_action)\n",
        "\n",
        "        state,action = next_state,next_action\n",
        "\n",
        "\n"
      ]
    },
    {
      "cell_type": "code",
      "execution_count": 8,
      "metadata": {
        "id": "GEg6nSQ160_u",
        "colab": {
          "base_uri": "https://localhost:8080/"
        },
        "outputId": "95998b23-a57e-47a1-e0c3-c8924ef0b318"
      },
      "outputs": [
        {
          "output_type": "stream",
          "name": "stderr",
          "text": [
            "/usr/local/lib/python3.10/dist-packages/gym/core.py:317: DeprecationWarning: \u001b[33mWARN: Initializing wrapper in old step API which returns one bool instead of two. It is recommended to set `new_step_api=True` to use new step API. This will be the default behaviour in future.\u001b[0m\n",
            "  deprecation(\n",
            "/usr/local/lib/python3.10/dist-packages/gym/wrappers/step_api_compatibility.py:39: DeprecationWarning: \u001b[33mWARN: Initializing environment in old step API which returns one bool instead of two. It is recommended to set `new_step_api=True` to use new step API. This will be the default behaviour in future.\u001b[0m\n",
            "  deprecation(\n"
          ]
        }
      ],
      "source": [
        "testenv = gym.make('Taxi-v3')\n",
        "testenv = testenv.unwrapped\n",
        "state = testenv.encode(2, 2, 2, 1) # initializing (row, column, pickup, dropoff)\n",
        "testenv.s = state\n",
        "\n",
        "#testenv.render()\n",
        "\n",
        "penalties = 0\n",
        "done = False\n",
        "total_reward = 0\n",
        "total_steps = 0\n",
        "while not done:\n",
        "    ########################## Your code here ##########################\n",
        "    # You need to write how action is being chosen in the evaluation.\n",
        "    # Remember to call your action \"a\", because it is used in the next line.\n",
        "\n",
        "    a = np.argmax(q[state])\n",
        "    ########################## End of your code ########################\n",
        "\n",
        "    next_s, reward, done, _, _ = testenv.step(a) # \"a\" is the action\n",
        "\n",
        "    total_reward += reward\n",
        "    total_steps += 1\n",
        "    if reward == -10: # if hitting the wall\n",
        "        penalties += 1\n",
        "\n",
        "    #testenv.render()\n",
        "    state = next_s"
      ]
    },
    {
      "cell_type": "code",
      "execution_count": 9,
      "metadata": {
        "id": "CzgyLDDM60_u",
        "colab": {
          "base_uri": "https://localhost:8080/"
        },
        "outputId": "3d5591eb-c57f-4f71-cae9-6c07d5b1339c"
      },
      "outputs": [
        {
          "output_type": "stream",
          "name": "stdout",
          "text": [
            "Passenger dropped off successfully in after time steps  14\n",
            "Total reward is  7\n",
            "Penalties incurred 0\n"
          ]
        }
      ],
      "source": [
        "print(\"Passenger dropped off successfully in after time steps \", total_steps)\n",
        "print(\"Total reward is \", total_reward)\n",
        "print(\"Penalties incurred\", penalties)"
      ]
    },
    {
      "cell_type": "code",
      "source": [],
      "metadata": {
        "id": "Kc3ZcOkfgM_T"
      },
      "execution_count": null,
      "outputs": []
    }
  ],
  "metadata": {
    "kernelspec": {
      "display_name": "Python 3",
      "language": "python",
      "name": "python3"
    },
    "language_info": {
      "codemirror_mode": {
        "name": "ipython",
        "version": 3
      },
      "file_extension": ".py",
      "mimetype": "text/x-python",
      "name": "python",
      "nbconvert_exporter": "python",
      "pygments_lexer": "ipython3",
      "version": "3.6.10"
    },
    "colab": {
      "provenance": []
    }
  },
  "nbformat": 4,
  "nbformat_minor": 0
}