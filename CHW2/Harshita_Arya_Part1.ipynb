{
  "cells": [
    {
      "cell_type": "code",
      "source": [
        "!pwd"
      ],
      "metadata": {
        "colab": {
          "base_uri": "https://localhost:8080/"
        },
        "id": "FMfFB4bgD81r",
        "outputId": "02a40a00-fd4b-4552-f399-d82d1dc984c6"
      },
      "execution_count": 3,
      "outputs": [
        {
          "output_type": "stream",
          "name": "stdout",
          "text": [
            "/content\n"
          ]
        }
      ]
    },
    {
      "cell_type": "code",
      "source": [
        "pip install gym==0.25.2"
      ],
      "metadata": {
        "colab": {
          "base_uri": "https://localhost:8080/"
        },
        "id": "wQbf9yXfDqFx",
        "outputId": "b77daaba-b323-4ecc-8929-61c217d93b5a"
      },
      "execution_count": 1,
      "outputs": [
        {
          "output_type": "stream",
          "name": "stdout",
          "text": [
            "Requirement already satisfied: gym==0.25.2 in /usr/local/lib/python3.10/dist-packages (0.25.2)\n",
            "Requirement already satisfied: numpy>=1.18.0 in /usr/local/lib/python3.10/dist-packages (from gym==0.25.2) (1.23.5)\n",
            "Requirement already satisfied: cloudpickle>=1.2.0 in /usr/local/lib/python3.10/dist-packages (from gym==0.25.2) (2.2.1)\n",
            "Requirement already satisfied: gym-notices>=0.0.4 in /usr/local/lib/python3.10/dist-packages (from gym==0.25.2) (0.0.8)\n"
          ]
        }
      ]
    },
    {
      "cell_type": "markdown",
      "metadata": {
        "id": "bQzD9_9G5Ws0"
      },
      "source": [
        "# Smart Cab\n",
        "----\n",
        "In this computer assignment, we will use reinforcement learning to train a self-driving cab which will\n",
        "pick up and drop passengers at designated areas. We will use Q-learning algorithm.\n",
        "\n",
        "# Environment: Taxi-v2\n",
        "----\n",
        "In this assignment, we will use the Taxi-v2 environment by OpenAI Gym which looks something like this:"
      ]
    },
    {
      "cell_type": "code",
      "execution_count": 4,
      "metadata": {
        "id": "31s0JZZk5Ws2"
      },
      "outputs": [],
      "source": [
        "from __future__ import division\n",
        "from __future__ import print_function\n",
        "\n",
        "from IPython.display import display\n",
        "from PIL import Image\n",
        "\n",
        "#path=\"taxi.png\"\n",
        "#display(Image.open(path))"
      ]
    },
    {
      "cell_type": "markdown",
      "metadata": {
        "id": "S8UxXFqR5Ws3"
      },
      "source": [
        "The solid rectangle represents the taxi, which is yellow without a passenger and green with a passenger.\n",
        "The pipe (\"|\") represents a wall which cannot be crossed.\n",
        "R, G, Y, B are the possible pickup and destination locations.\n",
        "The blue letter represents the current passenger pick-up location.\n",
        "The purple letter is the current destination.\n"
      ]
    },
    {
      "cell_type": "markdown",
      "metadata": {
        "id": "cYBxuwoX5Ws3"
      },
      "source": [
        "# How many states? Actions?"
      ]
    },
    {
      "cell_type": "code",
      "execution_count": 5,
      "metadata": {
        "id": "RZKYacjr5Ws3",
        "colab": {
          "base_uri": "https://localhost:8080/"
        },
        "outputId": "0aa639e2-a946-4f34-b0ac-14bc8ae066f7"
      },
      "outputs": [
        {
          "output_type": "stream",
          "name": "stdout",
          "text": [
            "The number of states in taxi environment is 500\n",
            "The number of actions in taxi environment is 6\n"
          ]
        },
        {
          "output_type": "stream",
          "name": "stderr",
          "text": [
            "/usr/local/lib/python3.10/dist-packages/gym/core.py:317: DeprecationWarning: \u001b[33mWARN: Initializing wrapper in old step API which returns one bool instead of two. It is recommended to set `new_step_api=True` to use new step API. This will be the default behaviour in future.\u001b[0m\n",
            "  deprecation(\n",
            "/usr/local/lib/python3.10/dist-packages/gym/wrappers/step_api_compatibility.py:39: DeprecationWarning: \u001b[33mWARN: Initializing environment in old step API which returns one bool instead of two. It is recommended to set `new_step_api=True` to use new step API. This will be the default behaviour in future.\u001b[0m\n",
            "  deprecation(\n"
          ]
        }
      ],
      "source": [
        "import gym\n",
        "\n",
        "env = gym.make(\"Taxi-v3\").env\n",
        "Nstates = env.observation_space.n\n",
        "Nactions = env.action_space.n\n",
        "print(\"The number of states in taxi environment is\", Nstates)\n",
        "print(\"The number of actions in taxi environment is\", Nactions)"
      ]
    },
    {
      "cell_type": "markdown",
      "metadata": {
        "id": "HuChrbxe5Ws3"
      },
      "source": [
        "The actions are encoded as: 0 = south, 1 = north, 2 = east, 3 = west, 4 = pickup, 5 = dropoff.\n",
        "The state is a tuple of taxi row position, taxi column position, passenger location and destination location."
      ]
    },
    {
      "cell_type": "markdown",
      "metadata": {
        "id": "rgHNHW7X5Ws3"
      },
      "source": [
        "# Training"
      ]
    },
    {
      "cell_type": "code",
      "execution_count": 6,
      "metadata": {
        "id": "3pX-uME45Ws3",
        "colab": {
          "base_uri": "https://localhost:8080/"
        },
        "outputId": "140594c6-80bc-425d-cb17-6d6186c5d8ed"
      },
      "outputs": [
        {
          "output_type": "stream",
          "name": "stdout",
          "text": [
            "-------------------\n",
            "Running episode 0\n",
            "-------------------\n",
            "Running episode 100\n",
            "-------------------\n",
            "Running episode 200\n",
            "-------------------\n",
            "Running episode 300\n",
            "-------------------\n",
            "Running episode 400\n",
            "-------------------\n",
            "Running episode 500\n",
            "-------------------\n",
            "Running episode 600\n",
            "-------------------\n",
            "Running episode 700\n",
            "-------------------\n",
            "Running episode 800\n",
            "-------------------\n",
            "Running episode 900\n",
            "-------------------\n",
            "Running episode 1000\n",
            "-------------------\n",
            "Running episode 1100\n",
            "-------------------\n",
            "Running episode 1200\n",
            "-------------------\n",
            "Running episode 1300\n",
            "-------------------\n",
            "Running episode 1400\n",
            "-------------------\n",
            "Running episode 1500\n",
            "-------------------\n",
            "Running episode 1600\n",
            "-------------------\n",
            "Running episode 1700\n",
            "-------------------\n",
            "Running episode 1800\n",
            "-------------------\n",
            "Running episode 1900\n",
            "-------------------\n",
            "Running episode 2000\n",
            "-------------------\n",
            "Running episode 2100\n",
            "-------------------\n",
            "Running episode 2200\n",
            "-------------------\n",
            "Running episode 2300\n",
            "-------------------\n",
            "Running episode 2400\n",
            "-------------------\n",
            "Running episode 2500\n",
            "-------------------\n",
            "Running episode 2600\n",
            "-------------------\n",
            "Running episode 2700\n",
            "-------------------\n",
            "Running episode 2800\n",
            "-------------------\n",
            "Running episode 2900\n",
            "-------------------\n",
            "Running episode 3000\n",
            "-------------------\n",
            "Running episode 3100\n",
            "-------------------\n",
            "Running episode 3200\n",
            "-------------------\n",
            "Running episode 3300\n",
            "-------------------\n",
            "Running episode 3400\n",
            "-------------------\n",
            "Running episode 3500\n",
            "-------------------\n",
            "Running episode 3600\n",
            "-------------------\n",
            "Running episode 3700\n",
            "-------------------\n",
            "Running episode 3800\n",
            "-------------------\n",
            "Running episode 3900\n",
            "-------------------\n",
            "Running episode 4000\n",
            "-------------------\n",
            "Running episode 4100\n",
            "-------------------\n",
            "Running episode 4200\n",
            "-------------------\n",
            "Running episode 4300\n",
            "-------------------\n",
            "Running episode 4400\n",
            "-------------------\n",
            "Running episode 4500\n",
            "-------------------\n",
            "Running episode 4600\n",
            "-------------------\n",
            "Running episode 4700\n",
            "-------------------\n",
            "Running episode 4800\n",
            "-------------------\n",
            "Running episode 4900\n"
          ]
        }
      ],
      "source": [
        "import numpy as np\n",
        "import random\n",
        "\n",
        "q = np.zeros([Nstates, Nactions])\n",
        "\n",
        "alpha = 0.1\n",
        "gamma = 0.99\n",
        "epsilon = 0.1\n",
        "\n",
        "\n",
        "\n",
        "Nepisodes = 5000\n",
        "for i in range(Nepisodes):\n",
        "    if i % 100 == 0:\n",
        "        print(\"-------------------\")\n",
        "        print(\"Running episode\", i)\n",
        "\n",
        "    state = env.reset()\n",
        "\n",
        "\n",
        "    done = False\n",
        "\n",
        "    while not done:\n",
        "        if random.uniform(0, 1) < epsilon:\n",
        "            action = env.action_space.sample() # Exploration\n",
        "        else:\n",
        "            action = np.argmax(q[state]) # Exploitation\n",
        "\n",
        "        next_state, reward, done, info = env.step(action)\n",
        "\n",
        "        ########################## Your code here ##########################\n",
        "        # you need to update the q function here\n",
        "\n",
        "\n",
        "        # Q-learning update\n",
        "        old_q_value = q[state, action]\n",
        "        next_max_q = np.max(q[next_state])\n",
        "        new_q_value = (1 - alpha) * old_q_value + alpha * (reward + gamma * next_max_q)\n",
        "        q[state, action] = new_q_value\n",
        "\n",
        "\n",
        "\n",
        "\n",
        "\n",
        "\n",
        "\n",
        "        ########################## End of your code ########################\n",
        "\n",
        "        state = next_state"
      ]
    },
    {
      "cell_type": "markdown",
      "metadata": {
        "id": "j63Etu665Ws3"
      },
      "source": [
        "# Evaluation\n",
        "After our Q-values have converged, lets use that to see how good it is. But before that, lets just fix the taxi position, pick up and destination."
      ]
    },
    {
      "cell_type": "code",
      "execution_count": 11,
      "metadata": {
        "id": "cFXOhyMf5Ws4",
        "colab": {
          "base_uri": "https://localhost:8080/"
        },
        "outputId": "6e9cbe28-d76f-4c5d-86f9-cd712b365a68"
      },
      "outputs": [
        {
          "output_type": "stream",
          "name": "stdout",
          "text": [
            "False -1 1\n",
            "False -2 2\n",
            "False -3 3\n",
            "False -4 4\n",
            "False -5 5\n",
            "False -6 6\n",
            "False -7 7\n",
            "False -8 8\n",
            "False -9 9\n",
            "False -10 10\n",
            "False -11 11\n",
            "False -12 12\n",
            "False -13 13\n",
            "True 7 14\n",
            "Passenger dropped off successfully in after time steps  14\n",
            "Total reward is  7\n",
            "Penalties incurred 0\n"
          ]
        }
      ],
      "source": [
        "testenv = gym.make('Taxi-v3')\n",
        "testenv = testenv.unwrapped\n",
        "state = testenv.encode(2, 2, 2, 1) # initializing (row, column, pickup, dropoff)\n",
        "testenv.s = state\n",
        "\n",
        "#testenv.render()\n",
        "\n",
        "penalties = 0\n",
        "done = False\n",
        "total_reward = 0\n",
        "total_steps = 0\n",
        "while not done:\n",
        "\n",
        "    ########################## Your code here ##########################\n",
        "    # You need to write how action is being chosen in the evaluation.\n",
        "    # Remember to call your action \"a\", because it is used in the next line.\n",
        "\n",
        "\n",
        "    a = np.argmax(q[state])  # Choose action based on Q-values\n",
        "\n",
        "\n",
        "    ########################## End of your code ########################\n",
        "    next_s, reward, done, _, _ = testenv.step(a) # \"a\" is the action\n",
        "\n",
        "    total_reward += reward\n",
        "    total_steps += 1\n",
        "    if reward == -10: # if hitting the wall\n",
        "        penalties += 1\n",
        "\n",
        "    print(done,total_reward,total_steps)\n",
        "\n",
        "    #testenv.render()\n",
        "    state = next_s\n",
        "\n",
        "\n",
        "print(\"Passenger dropped off successfully in after time steps \", total_steps)\n",
        "print(\"Total reward is \", total_reward)\n",
        "print(\"Penalties incurred\", penalties)"
      ]
    }
  ],
  "metadata": {
    "kernelspec": {
      "display_name": "Python 3",
      "language": "python",
      "name": "python3"
    },
    "language_info": {
      "codemirror_mode": {
        "name": "ipython",
        "version": 3
      },
      "file_extension": ".py",
      "mimetype": "text/x-python",
      "name": "python",
      "nbconvert_exporter": "python",
      "pygments_lexer": "ipython3",
      "version": "3.6.10"
    },
    "colab": {
      "provenance": []
    }
  },
  "nbformat": 4,
  "nbformat_minor": 0
}