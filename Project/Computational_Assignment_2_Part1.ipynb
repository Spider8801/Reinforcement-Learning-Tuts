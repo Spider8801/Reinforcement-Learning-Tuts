{
  "cells": [
    {
      "cell_type": "markdown",
      "metadata": {
        "id": "bQzD9_9G5Ws0"
      },
      "source": [
        "# Smart Cab\n",
        "----\n",
        "In this computer assignment, we will use reinforcement learning to train a self-driving cab which will\n",
        "pick up and drop passengers at designated areas. We will use Q-learning algorithm.\n",
        "\n",
        "# Environment: Taxi-v2\n",
        "----\n",
        "In this assignment, we will use the Taxi-v2 environment by OpenAI Gym which looks something like this:"
      ]
    },
    {
      "cell_type": "code",
      "execution_count": 1,
      "metadata": {
        "id": "31s0JZZk5Ws2"
      },
      "outputs": [],
      "source": [
        "from __future__ import division\n",
        "from __future__ import print_function\n",
        "\n",
        "from IPython.display import display\n",
        "from PIL import Image\n",
        "\n",
        "#path=\"taxi.png\"\n",
        "#display(Image.open(path))"
      ]
    },
    {
      "cell_type": "markdown",
      "metadata": {
        "id": "S8UxXFqR5Ws3"
      },
      "source": [
        "The solid rectangle represents the taxi, which is yellow without a passenger and green with a passenger.\n",
        "The pipe (\"|\") represents a wall which cannot be crossed.\n",
        "R, G, Y, B are the possible pickup and destination locations.\n",
        "The blue letter represents the current passenger pick-up location.\n",
        "The purple letter is the current destination.\n"
      ]
    },
    {
      "cell_type": "markdown",
      "metadata": {
        "id": "cYBxuwoX5Ws3"
      },
      "source": [
        "# How many states? Actions?"
      ]
    },
    {
      "cell_type": "code",
      "execution_count": null,
      "metadata": {
        "id": "RZKYacjr5Ws3"
      },
      "outputs": [],
      "source": [
        "import gym\n",
        "\n",
        "env = gym.make(\"Taxi-v3\").env\n",
        "Nstates = env.observation_space.n\n",
        "Nactions = env.action_space.n\n",
        "print(\"The number of states in taxi environment is\", Nstates)\n",
        "print(\"The number of actions in taxi environment is\", Nactions)"
      ]
    },
    {
      "cell_type": "markdown",
      "metadata": {
        "id": "HuChrbxe5Ws3"
      },
      "source": [
        "The actions are encoded as: 0 = south, 1 = north, 2 = east, 3 = west, 4 = pickup, 5 = dropoff.\n",
        "The state is a tuple of taxi row position, taxi column position, passenger location and destination location."
      ]
    },
    {
      "cell_type": "markdown",
      "metadata": {
        "id": "rgHNHW7X5Ws3"
      },
      "source": [
        "# Training"
      ]
    },
    {
      "cell_type": "code",
      "execution_count": null,
      "metadata": {
        "id": "3pX-uME45Ws3"
      },
      "outputs": [],
      "source": [
        "import numpy as np\n",
        "import random\n",
        "\n",
        "q = np.zeros([Nstates, Nactions])\n",
        "\n",
        "alpha = 0.1\n",
        "gamma = 0.99\n",
        "epsilon = 0.1\n",
        "\n",
        "\n",
        "\n",
        "Nepisodes = 5000\n",
        "for i in range(Nepisodes):\n",
        "    if i % 100 == 0:\n",
        "        print(\"-------------------\")\n",
        "        print(\"Running episode\", i)\n",
        "\n",
        "    state = env.reset()\n",
        "\n",
        "\n",
        "    done = False\n",
        "\n",
        "    while not done:\n",
        "        if random.uniform(0, 1) < epsilon:\n",
        "            action = env.action_space.sample() # Exploration\n",
        "        else:\n",
        "            action = np.argmax(q[state]) # Exploitation\n",
        "\n",
        "        next_state, reward, done, info = env.step(action)\n",
        "\n",
        "        ########################## Your code here ##########################\n",
        "        # you need to update the q function here\n",
        "\n",
        "\n",
        "\n",
        "\n",
        "\n",
        "\n",
        "\n",
        "\n",
        "        ########################## End of your code ########################\n",
        "\n",
        "        state = next_state"
      ]
    },
    {
      "cell_type": "markdown",
      "metadata": {
        "id": "j63Etu665Ws3"
      },
      "source": [
        "# Evaluation\n",
        "After our Q-values have converged, lets use that to see how good it is. But before that, lets just fix the taxi position, pick up and destination."
      ]
    },
    {
      "cell_type": "code",
      "execution_count": null,
      "metadata": {
        "id": "cFXOhyMf5Ws4"
      },
      "outputs": [],
      "source": [
        "testenv = gym.make('Taxi-v3')\n",
        "testenv = testenv.unwrapped\n",
        "state = testenv.encode(2, 2, 2, 1) # initializing (row, column, pickup, dropoff)\n",
        "testenv.s = state\n",
        "\n",
        "#testenv.render()\n",
        "\n",
        "penalties = 0\n",
        "done = False\n",
        "total_reward = 0\n",
        "total_steps = 0\n",
        "while not done:\n",
        "\n",
        "    ########################## Your code here ##########################\n",
        "    # You need to write how action is being chosen in the evaluation.\n",
        "    # Remember to call your action \"a\", because it is used in the next line.\n",
        "\n",
        "\n",
        "\n",
        "    a =\n",
        "    ########################## End of your code ########################\n",
        "    next_s, reward, done, _, _ = testenv.step(a) # \"a\" is the action\n",
        "\n",
        "    total_reward += reward\n",
        "    total_steps += 1\n",
        "    if reward == -10: # if hitting the wall\n",
        "        penalties += 1\n",
        "\n",
        "    #testenv.render()\n",
        "    state = next_s\n",
        "\n",
        "\n",
        "print(\"Passenger dropped off successfully in after time steps \", total_steps)\n",
        "print(\"Total reward is \", total_reward)\n",
        "print(\"Penalties incurred\", penalties)"
      ]
    }
  ],
  "metadata": {
    "kernelspec": {
      "display_name": "Python 3",
      "language": "python",
      "name": "python3"
    },
    "language_info": {
      "codemirror_mode": {
        "name": "ipython",
        "version": 3
      },
      "file_extension": ".py",
      "mimetype": "text/x-python",
      "name": "python",
      "nbconvert_exporter": "python",
      "pygments_lexer": "ipython3",
      "version": "3.6.10"
    },
    "colab": {
      "provenance": []
    }
  },
  "nbformat": 4,
  "nbformat_minor": 0
}